{
  "nbformat": 4,
  "nbformat_minor": 0,
  "metadata": {
    "colab": {
      "provenance": []
    },
    "kernelspec": {
      "name": "python3",
      "display_name": "Python 3"
    },
    "language_info": {
      "name": "python"
    }
  },
  "cells": [
    {
      "cell_type": "markdown",
      "source": [
        "# voting"
      ],
      "metadata": {
        "id": "0_axEaWxCYRw"
      }
    },
    {
      "cell_type": "code",
      "execution_count": null,
      "metadata": {
        "colab": {
          "base_uri": "https://localhost:8080/"
        },
        "id": "Dp0FC0O0-FbJ",
        "outputId": "08f9a82c-b58d-4f47-9d84-c819e530b9fb"
      },
      "outputs": [
        {
          "output_type": "stream",
          "name": "stdout",
          "text": [
            "Mounted at /content/drive\n"
          ]
        }
      ],
      "source": [
        "from google.colab import drive\n",
        "drive.mount('/content/drive')"
      ]
    },
    {
      "cell_type": "code",
      "source": [
        "!pip install xgboost catboost  # XGBoost와 CatBoost 설치\n",
        "!pip install optuna"
      ],
      "metadata": {
        "colab": {
          "base_uri": "https://localhost:8080/"
        },
        "id": "nGzJzNdP-LUs",
        "outputId": "19ace725-4027-4b24-8658-cc7e380bce3e"
      },
      "execution_count": null,
      "outputs": [
        {
          "output_type": "stream",
          "name": "stdout",
          "text": [
            "Requirement already satisfied: xgboost in /usr/local/lib/python3.10/dist-packages (2.0.3)\n",
            "Collecting catboost\n",
            "  Downloading catboost-1.2.2-cp310-cp310-manylinux2014_x86_64.whl (98.7 MB)\n",
            "\u001b[2K     \u001b[90m━━━━━━━━━━━━━━━━━━━━━━━━━━━━━━━━━━━━━━━━\u001b[0m \u001b[32m98.7/98.7 MB\u001b[0m \u001b[31m7.2 MB/s\u001b[0m eta \u001b[36m0:00:00\u001b[0m\n",
            "\u001b[?25hRequirement already satisfied: numpy in /usr/local/lib/python3.10/dist-packages (from xgboost) (1.25.2)\n",
            "Requirement already satisfied: scipy in /usr/local/lib/python3.10/dist-packages (from xgboost) (1.11.4)\n",
            "Requirement already satisfied: graphviz in /usr/local/lib/python3.10/dist-packages (from catboost) (0.20.1)\n",
            "Requirement already satisfied: matplotlib in /usr/local/lib/python3.10/dist-packages (from catboost) (3.7.1)\n",
            "Requirement already satisfied: pandas>=0.24 in /usr/local/lib/python3.10/dist-packages (from catboost) (1.5.3)\n",
            "Requirement already satisfied: plotly in /usr/local/lib/python3.10/dist-packages (from catboost) (5.15.0)\n",
            "Requirement already satisfied: six in /usr/local/lib/python3.10/dist-packages (from catboost) (1.16.0)\n",
            "Requirement already satisfied: python-dateutil>=2.8.1 in /usr/local/lib/python3.10/dist-packages (from pandas>=0.24->catboost) (2.8.2)\n",
            "Requirement already satisfied: pytz>=2020.1 in /usr/local/lib/python3.10/dist-packages (from pandas>=0.24->catboost) (2023.4)\n",
            "Requirement already satisfied: contourpy>=1.0.1 in /usr/local/lib/python3.10/dist-packages (from matplotlib->catboost) (1.2.0)\n",
            "Requirement already satisfied: cycler>=0.10 in /usr/local/lib/python3.10/dist-packages (from matplotlib->catboost) (0.12.1)\n",
            "Requirement already satisfied: fonttools>=4.22.0 in /usr/local/lib/python3.10/dist-packages (from matplotlib->catboost) (4.49.0)\n",
            "Requirement already satisfied: kiwisolver>=1.0.1 in /usr/local/lib/python3.10/dist-packages (from matplotlib->catboost) (1.4.5)\n",
            "Requirement already satisfied: packaging>=20.0 in /usr/local/lib/python3.10/dist-packages (from matplotlib->catboost) (23.2)\n",
            "Requirement already satisfied: pillow>=6.2.0 in /usr/local/lib/python3.10/dist-packages (from matplotlib->catboost) (9.4.0)\n",
            "Requirement already satisfied: pyparsing>=2.3.1 in /usr/local/lib/python3.10/dist-packages (from matplotlib->catboost) (3.1.1)\n",
            "Requirement already satisfied: tenacity>=6.2.0 in /usr/local/lib/python3.10/dist-packages (from plotly->catboost) (8.2.3)\n",
            "Installing collected packages: catboost\n",
            "Successfully installed catboost-1.2.2\n",
            "Collecting optuna\n",
            "  Downloading optuna-3.5.0-py3-none-any.whl (413 kB)\n",
            "\u001b[2K     \u001b[90m━━━━━━━━━━━━━━━━━━━━━━━━━━━━━━━━━━━━━━━━\u001b[0m \u001b[32m413.4/413.4 kB\u001b[0m \u001b[31m3.1 MB/s\u001b[0m eta \u001b[36m0:00:00\u001b[0m\n",
            "\u001b[?25hCollecting alembic>=1.5.0 (from optuna)\n",
            "  Downloading alembic-1.13.1-py3-none-any.whl (233 kB)\n",
            "\u001b[2K     \u001b[90m━━━━━━━━━━━━━━━━━━━━━━━━━━━━━━━━━━━━━━━━\u001b[0m \u001b[32m233.4/233.4 kB\u001b[0m \u001b[31m20.8 MB/s\u001b[0m eta \u001b[36m0:00:00\u001b[0m\n",
            "\u001b[?25hCollecting colorlog (from optuna)\n",
            "  Downloading colorlog-6.8.2-py3-none-any.whl (11 kB)\n",
            "Requirement already satisfied: numpy in /usr/local/lib/python3.10/dist-packages (from optuna) (1.25.2)\n",
            "Requirement already satisfied: packaging>=20.0 in /usr/local/lib/python3.10/dist-packages (from optuna) (23.2)\n",
            "Requirement already satisfied: sqlalchemy>=1.3.0 in /usr/local/lib/python3.10/dist-packages (from optuna) (2.0.27)\n",
            "Requirement already satisfied: tqdm in /usr/local/lib/python3.10/dist-packages (from optuna) (4.66.2)\n",
            "Requirement already satisfied: PyYAML in /usr/local/lib/python3.10/dist-packages (from optuna) (6.0.1)\n",
            "Collecting Mako (from alembic>=1.5.0->optuna)\n",
            "  Downloading Mako-1.3.2-py3-none-any.whl (78 kB)\n",
            "\u001b[2K     \u001b[90m━━━━━━━━━━━━━━━━━━━━━━━━━━━━━━━━━━━━━━━━\u001b[0m \u001b[32m78.7/78.7 kB\u001b[0m \u001b[31m11.4 MB/s\u001b[0m eta \u001b[36m0:00:00\u001b[0m\n",
            "\u001b[?25hRequirement already satisfied: typing-extensions>=4 in /usr/local/lib/python3.10/dist-packages (from alembic>=1.5.0->optuna) (4.9.0)\n",
            "Requirement already satisfied: greenlet!=0.4.17 in /usr/local/lib/python3.10/dist-packages (from sqlalchemy>=1.3.0->optuna) (3.0.3)\n",
            "Requirement already satisfied: MarkupSafe>=0.9.2 in /usr/local/lib/python3.10/dist-packages (from Mako->alembic>=1.5.0->optuna) (2.1.5)\n",
            "Installing collected packages: Mako, colorlog, alembic, optuna\n",
            "Successfully installed Mako-1.3.2 alembic-1.13.1 colorlog-6.8.2 optuna-3.5.0\n"
          ]
        }
      ]
    },
    {
      "cell_type": "code",
      "source": [
        "import os\n",
        "import gc\n",
        "import re\n",
        "import pickle\n",
        "import joblib\n",
        "import pandas as pd\n",
        "import numpy as np\n",
        "import random\n",
        "\n",
        "import warnings\n",
        "from sklearn.exceptions import ConvergenceWarning\n",
        "warnings.filterwarnings(\"ignore\", category=ConvergenceWarning)\n",
        "\n",
        "from sklearn.model_selection import train_test_split\n",
        "from lightgbm import LGBMRegressor\n",
        "from xgboost import XGBRegressor  # XGBoost\n",
        "from catboost import CatBoostRegressor  # CatBoost\n",
        "from sklearn.metrics import mean_squared_error\n",
        "from sklearn.preprocessing import LabelEncoder\n",
        "from sklearn.preprocessing import PolynomialFeatures"
      ],
      "metadata": {
        "id": "Qw-jtuhU-NQb"
      },
      "execution_count": null,
      "outputs": []
    },
    {
      "cell_type": "code",
      "source": [
        "def seed_everything(seed):\n",
        "    random.seed(seed)\n",
        "    os.environ['PYTHONHASHSEED'] = str(seed)\n",
        "    np.random.seed(seed)\n",
        "\n",
        "seed_everything(42) # Seed 고정"
      ],
      "metadata": {
        "id": "U2pidwSU-Rfl"
      },
      "execution_count": null,
      "outputs": []
    },
    {
      "cell_type": "code",
      "source": [
        "train_data_path = '/content/drive/My Drive/웹 로그/train.csv'\n",
        "test_data_path = '/content/drive/My Drive/웹 로그/test.csv'\n",
        "\n",
        "train_df = pd.read_csv(train_data_path)\n",
        "test_df = pd.read_csv(test_data_path)"
      ],
      "metadata": {
        "id": "pCBDhrjZ-TJw"
      },
      "execution_count": null,
      "outputs": []
    },
    {
      "cell_type": "code",
      "source": [
        "# train 데이터셋에서 결측값 확인\n",
        "train_missing_values = train_df.isnull().sum()\n",
        "print(\"Train 데이터셋의 결측값:\")\n",
        "print(train_missing_values[train_missing_values > 0])  # 결측값이 있는 열만 출력"
      ],
      "metadata": {
        "colab": {
          "base_uri": "https://localhost:8080/"
        },
        "id": "KCksnkmijYOR",
        "outputId": "3b7b5ab6-0cdd-47d8-e50f-3d409a619e46"
      },
      "execution_count": null,
      "outputs": [
        {
          "output_type": "stream",
          "name": "stdout",
          "text": [
            "Train 데이터셋의 결측값:\n",
            "keyword          137675\n",
            "referral_path    161107\n",
            "dtype: int64\n"
          ]
        }
      ]
    },
    {
      "cell_type": "code",
      "source": [
        "# 결측치 대체\n",
        "train_df['keyword'].fillna(train_df['keyword'].mode()[0], inplace=True)\n",
        "train_df['referral_path'].fillna(train_df['referral_path'].mode()[0], inplace=True)\n",
        "test_df['keyword'].fillna(train_df['keyword'].mode()[0], inplace=True) #train의 최빈값 사용\n",
        "test_df['referral_path'].fillna(train_df['referral_path'].mode()[0], inplace=True)"
      ],
      "metadata": {
        "id": "r9CRDaMosj2i"
      },
      "execution_count": null,
      "outputs": []
    },
    {
      "cell_type": "code",
      "source": [
        "# 필요 없는 column 제거\n",
        "train_data = train_df.drop(columns=['sessionID','userID'])\n",
        "train_data\n",
        "test_ids = test_df['sessionID']\n",
        "test_data = test_df.drop(columns=['sessionID','userID'])"
      ],
      "metadata": {
        "id": "xbCG5MnlsTFW"
      },
      "execution_count": null,
      "outputs": []
    },
    {
      "cell_type": "code",
      "source": [
        "# X's & Y Split\n",
        "Y = train_data['TARGET']\n",
        "X = train_data.drop(columns=['TARGET'])"
      ],
      "metadata": {
        "id": "ELa0Y7FKs3YJ"
      },
      "execution_count": null,
      "outputs": []
    },
    {
      "cell_type": "code",
      "source": [
        "# 숫자형(Integer), 범주형(Categorical) 변수 분할\n",
        "numerical_list=[]\n",
        "categorical_list=[]\n",
        "\n",
        "for i in X.columns :\n",
        "  if X[i].dtypes == 'O' :\n",
        "    categorical_list.append(i)\n",
        "  else :\n",
        "    numerical_list.append(i)\n",
        "\n",
        "print(\"categorical_list :\", categorical_list)\n",
        "print(\"numerical_list :\", numerical_list)"
      ],
      "metadata": {
        "colab": {
          "base_uri": "https://localhost:8080/"
        },
        "id": "IdjUnXBNs--F",
        "outputId": "a238074f-fd3a-4d7a-f278-f5ea48fd00fa"
      },
      "execution_count": null,
      "outputs": [
        {
          "output_type": "stream",
          "name": "stdout",
          "text": [
            "categorical_list : ['browser', 'OS', 'device', 'continent', 'subcontinent', 'country', 'traffic_source', 'traffic_medium', 'keyword', 'referral_path']\n",
            "numerical_list : ['new', 'quality', 'duration', 'bounced', 'transaction', 'transaction_revenue']\n"
          ]
        }
      ]
    },
    {
      "cell_type": "code",
      "source": [
        "encoders = {}\n",
        "for col in categorical_list:\n",
        "    encoder = LabelEncoder()\n",
        "    encoder.fit(X[col])  # 원래 트레인 데이터에 대해 fit\n",
        "    encoders[col] = encoder"
      ],
      "metadata": {
        "id": "fTH7g_cc8jA4"
      },
      "execution_count": null,
      "outputs": []
    },
    {
      "cell_type": "code",
      "source": [
        "def safe_transform(col, encoder, default_val=-1):\n",
        "    labels = list(encoder.classes_)\n",
        "    return col.apply(lambda x: encoder.transform([x])[0] if x in labels else default_val)\n",
        "\n",
        "for col in categorical_list:\n",
        "    # 각 컬럼에 대해 저장된 LabelEncoder를 사용하여 훈련 데이터와 검증 데이터를 변환합니다.\n",
        "    X[col] = encoders[col].transform(X[col])\n",
        "\n",
        "# 이제 테스트 데이터에 safe_transform을 적용합니다.\n",
        "for col in categorical_list:\n",
        "    test_data[col] = safe_transform(test_data[col], encoders[col])"
      ],
      "metadata": {
        "id": "sfIJSkQAuIYd"
      },
      "execution_count": null,
      "outputs": []
    },
    {
      "cell_type": "code",
      "source": [
        "import optuna\n",
        "from sklearn.ensemble import VotingRegressor\n",
        "from lightgbm import LGBMRegressor\n",
        "from xgboost import XGBRegressor\n",
        "from catboost import CatBoostRegressor\n",
        "from sklearn.model_selection import cross_val_score\n",
        "\n",
        "# Optuna를 사용하여 최적화할 목적 함수 정의\n",
        "def objective(trial):\n",
        "    # LightGBM 하이퍼파라미터\n",
        "    lgbm_params = {\n",
        "        'n_estimators': trial.suggest_int('lgbm_n_estimators', 100, 1000),\n",
        "        'learning_rate': trial.suggest_float('lgbm_learning_rate', 0.01, 0.1),\n",
        "        'max_depth': trial.suggest_int('lgbm_max_depth', 3, 20),\n",
        "        'num_leaves': trial.suggest_int('lgbm_num_leaves', 20, 100),\n",
        "    }\n",
        "\n",
        "    # XGBoost 하이퍼파라미터\n",
        "    xgb_params = {\n",
        "        'n_estimators': trial.suggest_int('xgb_n_estimators', 100, 1000),\n",
        "        'learning_rate': trial.suggest_float('xgb_learning_rate', 0.01, 0.1),\n",
        "        'max_depth': trial.suggest_int('xgb_max_depth', 3, 20),\n",
        "    }\n",
        "\n",
        "    # CatBoost 하이퍼파라미터\n",
        "    cat_params = {\n",
        "        'iterations': trial.suggest_int('cat_iterations', 100, 1000),\n",
        "        'learning_rate': trial.suggest_float('cat_learning_rate', 0.01, 0.1),\n",
        "        'depth': trial.suggest_int('cat_depth', 3, 10),\n",
        "    }\n",
        "\n",
        "    # 모델 인스턴스 생성\n",
        "    lgbm_model = LGBMRegressor(**lgbm_params)\n",
        "    xgb_model = XGBRegressor(**xgb_params)\n",
        "    catboost_model = CatBoostRegressor(**cat_params, verbose=False)\n",
        "\n",
        "    # Voting Regressor 정의\n",
        "    voting_regressor = VotingRegressor(\n",
        "        estimators=[\n",
        "            ('lgbm', lgbm_model),\n",
        "            ('xgb', xgb_model),\n",
        "            ('catboost', catboost_model)\n",
        "        ]\n",
        "    )\n",
        "\n",
        "    # 교차 검증을 사용한 스코어 계산\n",
        "    scores = cross_val_score(voting_regressor, X, Y, cv=3, scoring='neg_mean_squared_error', error_score='raise')\n",
        "    rmse_score = np.mean(np.sqrt(-scores))\n",
        "\n",
        "    return rmse_score\n",
        "\n",
        "study = optuna.create_study(direction='minimize')\n",
        "study.optimize(objective, n_trials=10)  # 시험 횟수를 10으로 설정\n",
        "\n",
        "print(\"Number of finished trials: \", len(study.trials))\n",
        "print(\"Best trial:\")\n",
        "trial = study.best_trial\n",
        "\n",
        "print(\"  Value: \", trial.value)\n",
        "print(\"  Params: \")\n",
        "for key, value in trial.params.items():\n",
        "    print(f\"    {key}: {value}\")\n",
        "\n"
      ],
      "metadata": {
        "id": "x7-V4gq3_WT-"
      },
      "execution_count": null,
      "outputs": []
    },
    {
      "cell_type": "code",
      "source": [
        "from sklearn.ensemble import VotingRegressor\n",
        "\n",
        "# 최적화된 하이퍼파라미터를 기반으로 모델 구성\n",
        "best_lgbm_params = {\n",
        "    'n_estimators': study.best_params['lgbm_n_estimators'],\n",
        "    'learning_rate': study.best_params['lgbm_learning_rate'],\n",
        "    'max_depth': study.best_params['lgbm_max_depth'],\n",
        "    'num_leaves': study.best_params['lgbm_num_leaves'],\n",
        "    'n_jobs': -1,\n",
        "}\n",
        "\n",
        "best_xgb_params = {\n",
        "    'n_estimators': study.best_params['xgb_n_estimators'],\n",
        "    'learning_rate': study.best_params['xgb_learning_rate'],\n",
        "    'max_depth': study.best_params['xgb_max_depth'],\n",
        "    'n_jobs': -1,\n",
        "}\n",
        "\n",
        "best_cat_params = {\n",
        "    'iterations': study.best_params['cat_iterations'],\n",
        "    'learning_rate': study.best_params['cat_learning_rate'],\n",
        "    'depth': study.best_params['cat_depth'],\n",
        "    'verbose': 0,\n",
        "}\n",
        "\n",
        "# 모델 인스턴스 생성\n",
        "lgbm_model = LGBMRegressor(**best_lgbm_params)\n",
        "xgb_model = XGBRegressor(**best_xgb_params)\n",
        "catboost_model = CatBoostRegressor(**best_cat_params)\n",
        "\n",
        "# Voting Regressor 정의\n",
        "voting_regressor = VotingRegressor(\n",
        "    estimators=[\n",
        "        ('lgbm', lgbm_model),\n",
        "        ('xgb', xgb_model),\n",
        "        ('catboost', catboost_model)\n",
        "    ],\n",
        "    weights=[2, 1, 2]  # lgbm과 catboost에 더 높은 가중치 부여\n",
        ")\n",
        "\n",
        "# Voting Regressor 학습\n",
        "voting_regressor.fit(X, Y)\n",
        "\n",
        "# 테스트 데이터에 대한 예측 수행\n",
        "predictions = voting_regressor.predict(test_data)\n"
      ],
      "metadata": {
        "id": "rTQrBZ9bAbsY",
        "colab": {
          "base_uri": "https://localhost:8080/"
        },
        "outputId": "5f638ba9-915c-462a-863e-07325e977b06"
      },
      "execution_count": null,
      "outputs": [
        {
          "output_type": "stream",
          "name": "stdout",
          "text": [
            "[LightGBM] [Info] Auto-choosing row-wise multi-threading, the overhead of testing was 0.175124 seconds.\n",
            "You can set `force_row_wise=true` to remove the overhead.\n",
            "And if memory is not enough, you can set `force_col_wise=true`.\n",
            "[LightGBM] [Info] Total Bins 1361\n",
            "[LightGBM] [Info] Number of data points in the train set: 252289, number of used features: 16\n",
            "[LightGBM] [Info] Start training from score 3.592626\n",
            "[LightGBM] [Warning] No further splits with positive gain, best gain: -inf\n",
            "[LightGBM] [Warning] No further splits with positive gain, best gain: -inf\n",
            "[LightGBM] [Warning] No further splits with positive gain, best gain: -inf\n",
            "[LightGBM] [Warning] No further splits with positive gain, best gain: -inf\n",
            "[LightGBM] [Warning] No further splits with positive gain, best gain: -inf\n",
            "[LightGBM] [Warning] No further splits with positive gain, best gain: -inf\n",
            "[LightGBM] [Warning] No further splits with positive gain, best gain: -inf\n",
            "[LightGBM] [Warning] No further splits with positive gain, best gain: -inf\n",
            "[LightGBM] [Warning] No further splits with positive gain, best gain: -inf\n",
            "[LightGBM] [Warning] No further splits with positive gain, best gain: -inf\n",
            "[LightGBM] [Warning] No further splits with positive gain, best gain: -inf\n",
            "[LightGBM] [Warning] No further splits with positive gain, best gain: -inf\n",
            "[LightGBM] [Warning] No further splits with positive gain, best gain: -inf\n",
            "[LightGBM] [Warning] No further splits with positive gain, best gain: -inf\n",
            "[LightGBM] [Warning] No further splits with positive gain, best gain: -inf\n",
            "[LightGBM] [Warning] No further splits with positive gain, best gain: -inf\n",
            "[LightGBM] [Warning] No further splits with positive gain, best gain: -inf\n",
            "[LightGBM] [Warning] No further splits with positive gain, best gain: -inf\n",
            "[LightGBM] [Warning] No further splits with positive gain, best gain: -inf\n",
            "[LightGBM] [Warning] No further splits with positive gain, best gain: -inf\n",
            "[LightGBM] [Warning] No further splits with positive gain, best gain: -inf\n",
            "[LightGBM] [Warning] No further splits with positive gain, best gain: -inf\n",
            "[LightGBM] [Warning] No further splits with positive gain, best gain: -inf\n",
            "[LightGBM] [Warning] No further splits with positive gain, best gain: -inf\n",
            "[LightGBM] [Warning] No further splits with positive gain, best gain: -inf\n",
            "[LightGBM] [Warning] No further splits with positive gain, best gain: -inf\n",
            "[LightGBM] [Warning] No further splits with positive gain, best gain: -inf\n",
            "[LightGBM] [Warning] No further splits with positive gain, best gain: -inf\n",
            "[LightGBM] [Warning] No further splits with positive gain, best gain: -inf\n",
            "[LightGBM] [Warning] No further splits with positive gain, best gain: -inf\n",
            "[LightGBM] [Warning] No further splits with positive gain, best gain: -inf\n"
          ]
        }
      ]
    },
    {
      "cell_type": "code",
      "source": [
        "# 예측 결과와 ID 열 결합\n",
        "submission = pd.DataFrame({'sessionID': test_ids, 'TARGET': predictions})\n",
        "\n",
        "# 제출 파일로 저장\n",
        "submission.to_csv('submission_voting_optuna.csv', index=False)\n"
      ],
      "metadata": {
        "id": "ox1eZVxNAfWi"
      },
      "execution_count": null,
      "outputs": []
    },
    {
      "cell_type": "code",
      "source": [
        "from google.colab import files\n",
        "files.download('submission_voting_optuna.csv')"
      ],
      "metadata": {
        "id": "OmbFOVymSL2z",
        "colab": {
          "base_uri": "https://localhost:8080/",
          "height": 17
        },
        "outputId": "b9808005-c2cf-4cdf-f8c1-68c9e97052d4"
      },
      "execution_count": null,
      "outputs": [
        {
          "output_type": "display_data",
          "data": {
            "text/plain": [
              "<IPython.core.display.Javascript object>"
            ],
            "application/javascript": [
              "\n",
              "    async function download(id, filename, size) {\n",
              "      if (!google.colab.kernel.accessAllowed) {\n",
              "        return;\n",
              "      }\n",
              "      const div = document.createElement('div');\n",
              "      const label = document.createElement('label');\n",
              "      label.textContent = `Downloading \"${filename}\": `;\n",
              "      div.appendChild(label);\n",
              "      const progress = document.createElement('progress');\n",
              "      progress.max = size;\n",
              "      div.appendChild(progress);\n",
              "      document.body.appendChild(div);\n",
              "\n",
              "      const buffers = [];\n",
              "      let downloaded = 0;\n",
              "\n",
              "      const channel = await google.colab.kernel.comms.open(id);\n",
              "      // Send a message to notify the kernel that we're ready.\n",
              "      channel.send({})\n",
              "\n",
              "      for await (const message of channel.messages) {\n",
              "        // Send a message to notify the kernel that we're ready.\n",
              "        channel.send({})\n",
              "        if (message.buffers) {\n",
              "          for (const buffer of message.buffers) {\n",
              "            buffers.push(buffer);\n",
              "            downloaded += buffer.byteLength;\n",
              "            progress.value = downloaded;\n",
              "          }\n",
              "        }\n",
              "      }\n",
              "      const blob = new Blob(buffers, {type: 'application/binary'});\n",
              "      const a = document.createElement('a');\n",
              "      a.href = window.URL.createObjectURL(blob);\n",
              "      a.download = filename;\n",
              "      div.appendChild(a);\n",
              "      a.click();\n",
              "      div.remove();\n",
              "    }\n",
              "  "
            ]
          },
          "metadata": {}
        },
        {
          "output_type": "display_data",
          "data": {
            "text/plain": [
              "<IPython.core.display.Javascript object>"
            ],
            "application/javascript": [
              "download(\"download_5a6974a2-5965-4535-a6d5-f7d34466ac8a\", \"submission_stacking_optuna.csv\", 2679512)"
            ]
          },
          "metadata": {}
        }
      ]
    }
  ]
}